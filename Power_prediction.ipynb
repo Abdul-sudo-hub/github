{
  "nbformat": 4,
  "nbformat_minor": 0,
  "metadata": {
    "colab": {
      "name": "Power prediction.ipynb",
      "provenance": [],
      "authorship_tag": "ABX9TyPBbfLihjxrLfOxUH4TKHPv",
      "include_colab_link": true
    },
    "kernelspec": {
      "name": "python3",
      "display_name": "Python 3"
    }
  },
  "cells": [
    {
      "cell_type": "markdown",
      "metadata": {
        "id": "view-in-github",
        "colab_type": "text"
      },
      "source": [
        "<a href=\"https://colab.research.google.com/github/iamabdull/github/blob/master/Power_prediction.ipynb\" target=\"_parent\"><img src=\"https://colab.research.google.com/assets/colab-badge.svg\" alt=\"Open In Colab\"/></a>"
      ]
    },
    {
      "cell_type": "code",
      "metadata": {
        "colab": {
          "base_uri": "https://localhost:8080/"
        },
        "id": "wpj_QSmTu4px",
        "outputId": "2aa45602-aec5-4c19-b57f-ffd6d4894b6f"
      },
      "source": [
        "!pip install fbprophet"
      ],
      "execution_count": 1,
      "outputs": [
        {
          "output_type": "stream",
          "text": [
            "Requirement already satisfied: fbprophet in /usr/local/lib/python3.6/dist-packages (0.7.1)\n",
            "Requirement already satisfied: Cython>=0.22 in /usr/local/lib/python3.6/dist-packages (from fbprophet) (0.29.21)\n",
            "Requirement already satisfied: cmdstanpy==0.9.5 in /usr/local/lib/python3.6/dist-packages (from fbprophet) (0.9.5)\n",
            "Requirement already satisfied: pystan>=2.14 in /usr/local/lib/python3.6/dist-packages (from fbprophet) (2.19.1.1)\n",
            "Requirement already satisfied: numpy>=1.15.4 in /usr/local/lib/python3.6/dist-packages (from fbprophet) (1.19.5)\n",
            "Requirement already satisfied: pandas>=1.0.4 in /usr/local/lib/python3.6/dist-packages (from fbprophet) (1.1.5)\n",
            "Requirement already satisfied: matplotlib>=2.0.0 in /usr/local/lib/python3.6/dist-packages (from fbprophet) (3.2.2)\n",
            "Requirement already satisfied: LunarCalendar>=0.0.9 in /usr/local/lib/python3.6/dist-packages (from fbprophet) (0.0.9)\n",
            "Requirement already satisfied: convertdate>=2.1.2 in /usr/local/lib/python3.6/dist-packages (from fbprophet) (2.3.0)\n",
            "Requirement already satisfied: holidays>=0.10.2 in /usr/local/lib/python3.6/dist-packages (from fbprophet) (0.10.5.2)\n",
            "Requirement already satisfied: setuptools-git>=1.2 in /usr/local/lib/python3.6/dist-packages (from fbprophet) (1.2)\n",
            "Requirement already satisfied: python-dateutil>=2.8.0 in /usr/local/lib/python3.6/dist-packages (from fbprophet) (2.8.1)\n",
            "Requirement already satisfied: tqdm>=4.36.1 in /usr/local/lib/python3.6/dist-packages (from fbprophet) (4.41.1)\n",
            "Requirement already satisfied: pytz>=2017.2 in /usr/local/lib/python3.6/dist-packages (from pandas>=1.0.4->fbprophet) (2018.9)\n",
            "Requirement already satisfied: kiwisolver>=1.0.1 in /usr/local/lib/python3.6/dist-packages (from matplotlib>=2.0.0->fbprophet) (1.3.1)\n",
            "Requirement already satisfied: pyparsing!=2.0.4,!=2.1.2,!=2.1.6,>=2.0.1 in /usr/local/lib/python3.6/dist-packages (from matplotlib>=2.0.0->fbprophet) (2.4.7)\n",
            "Requirement already satisfied: cycler>=0.10 in /usr/local/lib/python3.6/dist-packages (from matplotlib>=2.0.0->fbprophet) (0.10.0)\n",
            "Requirement already satisfied: ephem>=3.7.5.3 in /usr/local/lib/python3.6/dist-packages (from LunarCalendar>=0.0.9->fbprophet) (3.7.7.1)\n",
            "Requirement already satisfied: pymeeus<=1,>=0.3.6 in /usr/local/lib/python3.6/dist-packages (from convertdate>=2.1.2->fbprophet) (0.3.7)\n",
            "Requirement already satisfied: korean-lunar-calendar in /usr/local/lib/python3.6/dist-packages (from holidays>=0.10.2->fbprophet) (0.2.1)\n",
            "Requirement already satisfied: six in /usr/local/lib/python3.6/dist-packages (from holidays>=0.10.2->fbprophet) (1.15.0)\n",
            "Requirement already satisfied: hijri-converter in /usr/local/lib/python3.6/dist-packages (from holidays>=0.10.2->fbprophet) (2.1.1)\n"
          ],
          "name": "stdout"
        }
      ]
    },
    {
      "cell_type": "code",
      "metadata": {
        "id": "5h7_3wzxvCg1"
      },
      "source": [
        "from fbprophet import  Prophet"
      ],
      "execution_count": 2,
      "outputs": []
    },
    {
      "cell_type": "code",
      "metadata": {
        "colab": {
          "base_uri": "https://localhost:8080/"
        },
        "id": "szH0yq_jvftj",
        "outputId": "cd2cc215-b2ae-4346-d8e5-33933dbe4b7d"
      },
      "source": [
        "dir(Prophet)"
      ],
      "execution_count": 3,
      "outputs": [
        {
          "output_type": "execute_result",
          "data": {
            "text/plain": [
              "['__class__',\n",
              " '__delattr__',\n",
              " '__dict__',\n",
              " '__dir__',\n",
              " '__doc__',\n",
              " '__eq__',\n",
              " '__format__',\n",
              " '__ge__',\n",
              " '__getattribute__',\n",
              " '__gt__',\n",
              " '__hash__',\n",
              " '__init__',\n",
              " '__init_subclass__',\n",
              " '__le__',\n",
              " '__lt__',\n",
              " '__module__',\n",
              " '__ne__',\n",
              " '__new__',\n",
              " '__reduce__',\n",
              " '__reduce_ex__',\n",
              " '__repr__',\n",
              " '__setattr__',\n",
              " '__sizeof__',\n",
              " '__str__',\n",
              " '__subclasshook__',\n",
              " '__weakref__',\n",
              " '_load_stan_backend',\n",
              " 'add_country_holidays',\n",
              " 'add_group_component',\n",
              " 'add_regressor',\n",
              " 'add_seasonality',\n",
              " 'construct_holiday_dataframe',\n",
              " 'fit',\n",
              " 'flat_growth_init',\n",
              " 'flat_trend',\n",
              " 'fourier_series',\n",
              " 'initialize_scales',\n",
              " 'linear_growth_init',\n",
              " 'logistic_growth_init',\n",
              " 'make_all_seasonality_features',\n",
              " 'make_future_dataframe',\n",
              " 'make_holiday_features',\n",
              " 'make_seasonality_features',\n",
              " 'parse_seasonality_args',\n",
              " 'percentile',\n",
              " 'piecewise_linear',\n",
              " 'piecewise_logistic',\n",
              " 'plot',\n",
              " 'plot_components',\n",
              " 'predict',\n",
              " 'predict_seasonal_components',\n",
              " 'predict_trend',\n",
              " 'predict_uncertainty',\n",
              " 'predictive_samples',\n",
              " 'regressor_column_matrix',\n",
              " 'sample_model',\n",
              " 'sample_posterior_predictive',\n",
              " 'sample_predictive_trend',\n",
              " 'set_auto_seasonalities',\n",
              " 'set_changepoints',\n",
              " 'setup_dataframe',\n",
              " 'validate_column_name',\n",
              " 'validate_inputs']"
            ]
          },
          "metadata": {
            "tags": []
          },
          "execution_count": 3
        }
      ]
    },
    {
      "cell_type": "code",
      "metadata": {
        "id": "IVwlZcChvjNq"
      },
      "source": [
        ""
      ],
      "execution_count": 3,
      "outputs": []
    },
    {
      "cell_type": "code",
      "metadata": {
        "id": "TAS998gGvnXd"
      },
      "source": [
        "import pandas as pd\r\n",
        "import numpy as np"
      ],
      "execution_count": 15,
      "outputs": []
    },
    {
      "cell_type": "code",
      "metadata": {
        "id": "pqcfljrdvq1_"
      },
      "source": [
        "df = pd.read_csv('file_02.csv')"
      ],
      "execution_count": 5,
      "outputs": []
    },
    {
      "cell_type": "code",
      "metadata": {
        "colab": {
          "base_uri": "https://localhost:8080/",
          "height": 340
        },
        "id": "BH9i0Ux9vy1X",
        "outputId": "b81e335c-aab0-45c6-c2bd-cd9bf184b2f2"
      },
      "source": [
        "df.head(5)"
      ],
      "execution_count": 7,
      "outputs": [
        {
          "output_type": "execute_result",
          "data": {
            "text/html": [
              "<div>\n",
              "<style scoped>\n",
              "    .dataframe tbody tr th:only-of-type {\n",
              "        vertical-align: middle;\n",
              "    }\n",
              "\n",
              "    .dataframe tbody tr th {\n",
              "        vertical-align: top;\n",
              "    }\n",
              "\n",
              "    .dataframe thead th {\n",
              "        text-align: right;\n",
              "    }\n",
              "</style>\n",
              "<table border=\"1\" class=\"dataframe\">\n",
              "  <thead>\n",
              "    <tr style=\"text-align: right;\">\n",
              "      <th></th>\n",
              "      <th>index</th>\n",
              "      <th>Date</th>\n",
              "      <th>Region</th>\n",
              "      <th>Thermal Generation Actual (in MU)</th>\n",
              "      <th>Thermal Generation Estimated (in MU)</th>\n",
              "      <th>Nuclear Generation Actual (in MU)</th>\n",
              "      <th>Nuclear Generation Estimated (in MU)</th>\n",
              "      <th>Hydro Generation Actual (in MU)</th>\n",
              "      <th>Hydro Generation Estimated (in MU)</th>\n",
              "    </tr>\n",
              "  </thead>\n",
              "  <tbody>\n",
              "    <tr>\n",
              "      <th>0</th>\n",
              "      <td>0</td>\n",
              "      <td>2017-09-01</td>\n",
              "      <td>Northern</td>\n",
              "      <td>624.23</td>\n",
              "      <td>484.21</td>\n",
              "      <td>30.36</td>\n",
              "      <td>35.57</td>\n",
              "      <td>273.27</td>\n",
              "      <td>320.81</td>\n",
              "    </tr>\n",
              "    <tr>\n",
              "      <th>1</th>\n",
              "      <td>1</td>\n",
              "      <td>2017-09-01</td>\n",
              "      <td>Western</td>\n",
              "      <td>1,106.89</td>\n",
              "      <td>1,024.33</td>\n",
              "      <td>25.17</td>\n",
              "      <td>3.81</td>\n",
              "      <td>72.00</td>\n",
              "      <td>21.53</td>\n",
              "    </tr>\n",
              "    <tr>\n",
              "      <th>2</th>\n",
              "      <td>2</td>\n",
              "      <td>2017-09-01</td>\n",
              "      <td>Southern</td>\n",
              "      <td>576.66</td>\n",
              "      <td>578.55</td>\n",
              "      <td>62.73</td>\n",
              "      <td>49.80</td>\n",
              "      <td>111.57</td>\n",
              "      <td>64.78</td>\n",
              "    </tr>\n",
              "    <tr>\n",
              "      <th>3</th>\n",
              "      <td>3</td>\n",
              "      <td>2017-09-01</td>\n",
              "      <td>Eastern</td>\n",
              "      <td>441.02</td>\n",
              "      <td>429.39</td>\n",
              "      <td>NaN</td>\n",
              "      <td>NaN</td>\n",
              "      <td>85.94</td>\n",
              "      <td>69.36</td>\n",
              "    </tr>\n",
              "    <tr>\n",
              "      <th>4</th>\n",
              "      <td>4</td>\n",
              "      <td>2017-09-01</td>\n",
              "      <td>NorthEastern</td>\n",
              "      <td>29.11</td>\n",
              "      <td>15.91</td>\n",
              "      <td>NaN</td>\n",
              "      <td>NaN</td>\n",
              "      <td>24.64</td>\n",
              "      <td>21.21</td>\n",
              "    </tr>\n",
              "  </tbody>\n",
              "</table>\n",
              "</div>"
            ],
            "text/plain": [
              "   index  ... Hydro Generation Estimated (in MU)\n",
              "0      0  ...                             320.81\n",
              "1      1  ...                              21.53\n",
              "2      2  ...                              64.78\n",
              "3      3  ...                              69.36\n",
              "4      4  ...                              21.21\n",
              "\n",
              "[5 rows x 9 columns]"
            ]
          },
          "metadata": {
            "tags": []
          },
          "execution_count": 7
        }
      ]
    },
    {
      "cell_type": "code",
      "metadata": {
        "colab": {
          "base_uri": "https://localhost:8080/"
        },
        "id": "bCR3pDm3v1Y0",
        "outputId": "f25397f9-3432-4e2b-9223-c70e4824ad22"
      },
      "source": [
        "df.dtypes"
      ],
      "execution_count": 8,
      "outputs": [
        {
          "output_type": "execute_result",
          "data": {
            "text/plain": [
              "index                                     int64\n",
              "Date                                     object\n",
              "Region                                   object\n",
              "Thermal Generation Actual (in MU)        object\n",
              "Thermal Generation Estimated (in MU)     object\n",
              "Nuclear Generation Actual (in MU)       float64\n",
              "Nuclear Generation Estimated (in MU)    float64\n",
              "Hydro Generation Actual (in MU)         float64\n",
              "Hydro Generation Estimated (in MU)      float64\n",
              "dtype: object"
            ]
          },
          "metadata": {
            "tags": []
          },
          "execution_count": 8
        }
      ]
    },
    {
      "cell_type": "code",
      "metadata": {
        "id": "2lpeY4x1v9cS"
      },
      "source": [
        "df['Date']=pd.to_datetime(df['Date'])"
      ],
      "execution_count": 9,
      "outputs": []
    },
    {
      "cell_type": "code",
      "metadata": {
        "colab": {
          "base_uri": "https://localhost:8080/"
        },
        "id": "m7v28AjQwICN",
        "outputId": "d03fc4ad-71f8-4f42-888c-ab383e1655ef"
      },
      "source": [
        "df.dtypes"
      ],
      "execution_count": 10,
      "outputs": [
        {
          "output_type": "execute_result",
          "data": {
            "text/plain": [
              "index                                            int64\n",
              "Date                                    datetime64[ns]\n",
              "Region                                          object\n",
              "Thermal Generation Actual (in MU)               object\n",
              "Thermal Generation Estimated (in MU)            object\n",
              "Nuclear Generation Actual (in MU)              float64\n",
              "Nuclear Generation Estimated (in MU)           float64\n",
              "Hydro Generation Actual (in MU)                float64\n",
              "Hydro Generation Estimated (in MU)             float64\n",
              "dtype: object"
            ]
          },
          "metadata": {
            "tags": []
          },
          "execution_count": 10
        }
      ]
    },
    {
      "cell_type": "code",
      "metadata": {
        "id": "9tGJ133BwJ_Y"
      },
      "source": [
        "df1 = df.drop([\"Thermal Generation Estimated (in MU)\",\"Nuclear Generation Actual (in MU)\",\"Nuclear Generation Estimated (in MU)\",\"Hydro Generation Actual (in MU)\",\"Hydro Generation Estimated (in MU)\",\"index\"], axis='columns')"
      ],
      "execution_count": 20,
      "outputs": []
    },
    {
      "cell_type": "code",
      "metadata": {
        "id": "yXuvoeFTxOJG"
      },
      "source": [
        " df1['Thermal Generation Actual (in MU)']=df1['Thermal Generation Actual (in MU)'].str.replace(',','')\r\n",
        " df1['Thermal Generation Actual (in MU)'] = df1['Thermal Generation Actual (in MU)'].apply(np.int64)"
      ],
      "execution_count": 22,
      "outputs": []
    },
    {
      "cell_type": "code",
      "metadata": {
        "colab": {
          "base_uri": "https://localhost:8080/"
        },
        "id": "ns4fjL18xPfq",
        "outputId": "e9f3967e-46b5-48b8-9e7f-69bcc6330289"
      },
      "source": [
        "df1.dtypes"
      ],
      "execution_count": 23,
      "outputs": [
        {
          "output_type": "execute_result",
          "data": {
            "text/plain": [
              "Date                                 datetime64[ns]\n",
              "Region                                       object\n",
              "Thermal Generation Actual (in MU)             int64\n",
              "dtype: object"
            ]
          },
          "metadata": {
            "tags": []
          },
          "execution_count": 23
        }
      ]
    },
    {
      "cell_type": "code",
      "metadata": {
        "colab": {
          "base_uri": "https://localhost:8080/"
        },
        "id": "P09mbmcxyENi",
        "outputId": "a96b693c-9b63-4017-ec7e-d8c316c0d95f"
      },
      "source": [
        "df1.shape"
      ],
      "execution_count": 25,
      "outputs": [
        {
          "output_type": "execute_result",
          "data": {
            "text/plain": [
              "(4945, 3)"
            ]
          },
          "metadata": {
            "tags": []
          },
          "execution_count": 25
        }
      ]
    },
    {
      "cell_type": "code",
      "metadata": {
        "colab": {
          "base_uri": "https://localhost:8080/"
        },
        "id": "_7NJbRLJyV0k",
        "outputId": "7d6e87cb-3981-45d0-9898-e8ede599923b"
      },
      "source": [
        "df2=df1.groupby(['Date'])['Region','Thermal Generation Actual (in MU)'].sum().reset_index()"
      ],
      "execution_count": 31,
      "outputs": [
        {
          "output_type": "stream",
          "text": [
            "/usr/local/lib/python3.6/dist-packages/ipykernel_launcher.py:1: FutureWarning:\n",
            "\n",
            "Indexing with multiple keys (implicitly converted to a tuple of keys) will be deprecated, use a list instead.\n",
            "\n"
          ],
          "name": "stderr"
        }
      ]
    },
    {
      "cell_type": "code",
      "metadata": {
        "colab": {
          "base_uri": "https://localhost:8080/",
          "height": 419
        },
        "id": "G1kVUlh1ytXV",
        "outputId": "1ed8ed4a-b204-414d-bda2-c8e3e3488eab"
      },
      "source": [
        "df2"
      ],
      "execution_count": 32,
      "outputs": [
        {
          "output_type": "execute_result",
          "data": {
            "text/html": [
              "<div>\n",
              "<style scoped>\n",
              "    .dataframe tbody tr th:only-of-type {\n",
              "        vertical-align: middle;\n",
              "    }\n",
              "\n",
              "    .dataframe tbody tr th {\n",
              "        vertical-align: top;\n",
              "    }\n",
              "\n",
              "    .dataframe thead th {\n",
              "        text-align: right;\n",
              "    }\n",
              "</style>\n",
              "<table border=\"1\" class=\"dataframe\">\n",
              "  <thead>\n",
              "    <tr style=\"text-align: right;\">\n",
              "      <th></th>\n",
              "      <th>Date</th>\n",
              "      <th>Thermal Generation Actual (in MU)</th>\n",
              "    </tr>\n",
              "  </thead>\n",
              "  <tbody>\n",
              "    <tr>\n",
              "      <th>0</th>\n",
              "      <td>2017-09-01</td>\n",
              "      <td>277791</td>\n",
              "    </tr>\n",
              "    <tr>\n",
              "      <th>1</th>\n",
              "      <td>2017-09-02</td>\n",
              "      <td>277791</td>\n",
              "    </tr>\n",
              "    <tr>\n",
              "      <th>2</th>\n",
              "      <td>2017-09-03</td>\n",
              "      <td>277777</td>\n",
              "    </tr>\n",
              "    <tr>\n",
              "      <th>3</th>\n",
              "      <td>2017-09-04</td>\n",
              "      <td>277777</td>\n",
              "    </tr>\n",
              "    <tr>\n",
              "      <th>4</th>\n",
              "      <td>2017-09-05</td>\n",
              "      <td>279085</td>\n",
              "    </tr>\n",
              "    <tr>\n",
              "      <th>...</th>\n",
              "      <td>...</td>\n",
              "      <td>...</td>\n",
              "    </tr>\n",
              "    <tr>\n",
              "      <th>984</th>\n",
              "      <td>2020-07-28</td>\n",
              "      <td>296163</td>\n",
              "    </tr>\n",
              "    <tr>\n",
              "      <th>985</th>\n",
              "      <td>2020-07-29</td>\n",
              "      <td>296163</td>\n",
              "    </tr>\n",
              "    <tr>\n",
              "      <th>986</th>\n",
              "      <td>2020-07-30</td>\n",
              "      <td>297436</td>\n",
              "    </tr>\n",
              "    <tr>\n",
              "      <th>987</th>\n",
              "      <td>2020-07-31</td>\n",
              "      <td>298400</td>\n",
              "    </tr>\n",
              "    <tr>\n",
              "      <th>988</th>\n",
              "      <td>2020-08-01</td>\n",
              "      <td>279741</td>\n",
              "    </tr>\n",
              "  </tbody>\n",
              "</table>\n",
              "<p>989 rows × 2 columns</p>\n",
              "</div>"
            ],
            "text/plain": [
              "          Date  Thermal Generation Actual (in MU)\n",
              "0   2017-09-01                             277791\n",
              "1   2017-09-02                             277791\n",
              "2   2017-09-03                             277777\n",
              "3   2017-09-04                             277777\n",
              "4   2017-09-05                             279085\n",
              "..         ...                                ...\n",
              "984 2020-07-28                             296163\n",
              "985 2020-07-29                             296163\n",
              "986 2020-07-30                             297436\n",
              "987 2020-07-31                             298400\n",
              "988 2020-08-01                             279741\n",
              "\n",
              "[989 rows x 2 columns]"
            ]
          },
          "metadata": {
            "tags": []
          },
          "execution_count": 32
        }
      ]
    },
    {
      "cell_type": "code",
      "metadata": {
        "id": "i9BRQqumy2pQ"
      },
      "source": [
        "df3=df2.rename(columns={'Date':'ds','Thermal Generation Actual (in MU)':'y'})"
      ],
      "execution_count": 33,
      "outputs": []
    },
    {
      "cell_type": "code",
      "metadata": {
        "id": "9--QvHa3zqF5"
      },
      "source": [
        "m=Prophet()"
      ],
      "execution_count": 35,
      "outputs": []
    },
    {
      "cell_type": "code",
      "metadata": {
        "colab": {
          "base_uri": "https://localhost:8080/"
        },
        "id": "LPAKP7qI0VlB",
        "outputId": "35af5746-d5f9-4350-a0a7-d15e87dd913f"
      },
      "source": [
        "model=m.fit(df3)"
      ],
      "execution_count": 36,
      "outputs": [
        {
          "output_type": "stream",
          "text": [
            "INFO:numexpr.utils:NumExpr defaulting to 2 threads.\n",
            "INFO:fbprophet:Disabling daily seasonality. Run prophet with daily_seasonality=True to override this.\n"
          ],
          "name": "stderr"
        }
      ]
    },
    {
      "cell_type": "code",
      "metadata": {
        "colab": {
          "base_uri": "https://localhost:8080/"
        },
        "id": "-awUfqEL0ijn",
        "outputId": "f060529f-4c78-44a6-f61c-b65f7b407ced"
      },
      "source": [
        "model.seasonalities"
      ],
      "execution_count": 37,
      "outputs": [
        {
          "output_type": "execute_result",
          "data": {
            "text/plain": [
              "OrderedDict([('yearly',\n",
              "              {'condition_name': None,\n",
              "               'fourier_order': 10,\n",
              "               'mode': 'additive',\n",
              "               'period': 365.25,\n",
              "               'prior_scale': 10.0}),\n",
              "             ('weekly',\n",
              "              {'condition_name': None,\n",
              "               'fourier_order': 3,\n",
              "               'mode': 'additive',\n",
              "               'period': 7,\n",
              "               'prior_scale': 10.0})])"
            ]
          },
          "metadata": {
            "tags": []
          },
          "execution_count": 37
        }
      ]
    },
    {
      "cell_type": "code",
      "metadata": {
        "id": "KjXSKiwX0xnB"
      },
      "source": [
        "future = model.make_future_dataframe(periods=180,freq='D')"
      ],
      "execution_count": 45,
      "outputs": []
    },
    {
      "cell_type": "code",
      "metadata": {
        "colab": {
          "base_uri": "https://localhost:8080/",
          "height": 204
        },
        "id": "otyG2vTs1EDE",
        "outputId": "8041e12b-d21e-456a-dd8e-144451a663f8"
      },
      "source": [
        "future.tail()"
      ],
      "execution_count": 46,
      "outputs": [
        {
          "output_type": "execute_result",
          "data": {
            "text/html": [
              "<div>\n",
              "<style scoped>\n",
              "    .dataframe tbody tr th:only-of-type {\n",
              "        vertical-align: middle;\n",
              "    }\n",
              "\n",
              "    .dataframe tbody tr th {\n",
              "        vertical-align: top;\n",
              "    }\n",
              "\n",
              "    .dataframe thead th {\n",
              "        text-align: right;\n",
              "    }\n",
              "</style>\n",
              "<table border=\"1\" class=\"dataframe\">\n",
              "  <thead>\n",
              "    <tr style=\"text-align: right;\">\n",
              "      <th></th>\n",
              "      <th>ds</th>\n",
              "    </tr>\n",
              "  </thead>\n",
              "  <tbody>\n",
              "    <tr>\n",
              "      <th>1164</th>\n",
              "      <td>2021-01-24</td>\n",
              "    </tr>\n",
              "    <tr>\n",
              "      <th>1165</th>\n",
              "      <td>2021-01-25</td>\n",
              "    </tr>\n",
              "    <tr>\n",
              "      <th>1166</th>\n",
              "      <td>2021-01-26</td>\n",
              "    </tr>\n",
              "    <tr>\n",
              "      <th>1167</th>\n",
              "      <td>2021-01-27</td>\n",
              "    </tr>\n",
              "    <tr>\n",
              "      <th>1168</th>\n",
              "      <td>2021-01-28</td>\n",
              "    </tr>\n",
              "  </tbody>\n",
              "</table>\n",
              "</div>"
            ],
            "text/plain": [
              "             ds\n",
              "1164 2021-01-24\n",
              "1165 2021-01-25\n",
              "1166 2021-01-26\n",
              "1167 2021-01-27\n",
              "1168 2021-01-28"
            ]
          },
          "metadata": {
            "tags": []
          },
          "execution_count": 46
        }
      ]
    },
    {
      "cell_type": "code",
      "metadata": {
        "colab": {
          "base_uri": "https://localhost:8080/",
          "height": 609
        },
        "id": "mnksBsT11I0k",
        "outputId": "17e333ae-ea53-40f8-cb88-a6f168206d4e"
      },
      "source": [
        "prediction = model.predict(future)\r\n",
        "prediction"
      ],
      "execution_count": 47,
      "outputs": [
        {
          "output_type": "execute_result",
          "data": {
            "text/html": [
              "<div>\n",
              "<style scoped>\n",
              "    .dataframe tbody tr th:only-of-type {\n",
              "        vertical-align: middle;\n",
              "    }\n",
              "\n",
              "    .dataframe tbody tr th {\n",
              "        vertical-align: top;\n",
              "    }\n",
              "\n",
              "    .dataframe thead th {\n",
              "        text-align: right;\n",
              "    }\n",
              "</style>\n",
              "<table border=\"1\" class=\"dataframe\">\n",
              "  <thead>\n",
              "    <tr style=\"text-align: right;\">\n",
              "      <th></th>\n",
              "      <th>ds</th>\n",
              "      <th>trend</th>\n",
              "      <th>yhat_lower</th>\n",
              "      <th>yhat_upper</th>\n",
              "      <th>trend_lower</th>\n",
              "      <th>trend_upper</th>\n",
              "      <th>additive_terms</th>\n",
              "      <th>additive_terms_lower</th>\n",
              "      <th>additive_terms_upper</th>\n",
              "      <th>weekly</th>\n",
              "      <th>weekly_lower</th>\n",
              "      <th>weekly_upper</th>\n",
              "      <th>yearly</th>\n",
              "      <th>yearly_lower</th>\n",
              "      <th>yearly_upper</th>\n",
              "      <th>multiplicative_terms</th>\n",
              "      <th>multiplicative_terms_lower</th>\n",
              "      <th>multiplicative_terms_upper</th>\n",
              "      <th>yhat</th>\n",
              "    </tr>\n",
              "  </thead>\n",
              "  <tbody>\n",
              "    <tr>\n",
              "      <th>0</th>\n",
              "      <td>2017-09-01</td>\n",
              "      <td>280079.092604</td>\n",
              "      <td>262275.135710</td>\n",
              "      <td>281212.813003</td>\n",
              "      <td>280079.092604</td>\n",
              "      <td>280079.092604</td>\n",
              "      <td>-8381.876711</td>\n",
              "      <td>-8381.876711</td>\n",
              "      <td>-8381.876711</td>\n",
              "      <td>-1066.666993</td>\n",
              "      <td>-1066.666993</td>\n",
              "      <td>-1066.666993</td>\n",
              "      <td>-7315.209718</td>\n",
              "      <td>-7315.209718</td>\n",
              "      <td>-7315.209718</td>\n",
              "      <td>0.0</td>\n",
              "      <td>0.0</td>\n",
              "      <td>0.0</td>\n",
              "      <td>271697.215893</td>\n",
              "    </tr>\n",
              "    <tr>\n",
              "      <th>1</th>\n",
              "      <td>2017-09-02</td>\n",
              "      <td>280145.781031</td>\n",
              "      <td>263716.638659</td>\n",
              "      <td>282434.891223</td>\n",
              "      <td>280145.781031</td>\n",
              "      <td>280145.781031</td>\n",
              "      <td>-6889.285469</td>\n",
              "      <td>-6889.285469</td>\n",
              "      <td>-6889.285469</td>\n",
              "      <td>-193.348753</td>\n",
              "      <td>-193.348753</td>\n",
              "      <td>-193.348753</td>\n",
              "      <td>-6695.936716</td>\n",
              "      <td>-6695.936716</td>\n",
              "      <td>-6695.936716</td>\n",
              "      <td>0.0</td>\n",
              "      <td>0.0</td>\n",
              "      <td>0.0</td>\n",
              "      <td>273256.495562</td>\n",
              "    </tr>\n",
              "    <tr>\n",
              "      <th>2</th>\n",
              "      <td>2017-09-03</td>\n",
              "      <td>280212.469459</td>\n",
              "      <td>265498.741736</td>\n",
              "      <td>282926.835318</td>\n",
              "      <td>280212.469459</td>\n",
              "      <td>280212.469459</td>\n",
              "      <td>-5955.181793</td>\n",
              "      <td>-5955.181793</td>\n",
              "      <td>-5955.181793</td>\n",
              "      <td>161.120443</td>\n",
              "      <td>161.120443</td>\n",
              "      <td>161.120443</td>\n",
              "      <td>-6116.302236</td>\n",
              "      <td>-6116.302236</td>\n",
              "      <td>-6116.302236</td>\n",
              "      <td>0.0</td>\n",
              "      <td>0.0</td>\n",
              "      <td>0.0</td>\n",
              "      <td>274257.287666</td>\n",
              "    </tr>\n",
              "    <tr>\n",
              "      <th>3</th>\n",
              "      <td>2017-09-04</td>\n",
              "      <td>280279.157886</td>\n",
              "      <td>265669.715325</td>\n",
              "      <td>284452.061117</td>\n",
              "      <td>280279.157886</td>\n",
              "      <td>280279.157886</td>\n",
              "      <td>-5308.738526</td>\n",
              "      <td>-5308.738526</td>\n",
              "      <td>-5308.738526</td>\n",
              "      <td>273.572121</td>\n",
              "      <td>273.572121</td>\n",
              "      <td>273.572121</td>\n",
              "      <td>-5582.310648</td>\n",
              "      <td>-5582.310648</td>\n",
              "      <td>-5582.310648</td>\n",
              "      <td>0.0</td>\n",
              "      <td>0.0</td>\n",
              "      <td>0.0</td>\n",
              "      <td>274970.419360</td>\n",
              "    </tr>\n",
              "    <tr>\n",
              "      <th>4</th>\n",
              "      <td>2017-09-05</td>\n",
              "      <td>280345.846314</td>\n",
              "      <td>266166.901140</td>\n",
              "      <td>283836.841244</td>\n",
              "      <td>280345.846314</td>\n",
              "      <td>280345.846314</td>\n",
              "      <td>-4713.648122</td>\n",
              "      <td>-4713.648122</td>\n",
              "      <td>-4713.648122</td>\n",
              "      <td>384.941952</td>\n",
              "      <td>384.941952</td>\n",
              "      <td>384.941952</td>\n",
              "      <td>-5098.590074</td>\n",
              "      <td>-5098.590074</td>\n",
              "      <td>-5098.590074</td>\n",
              "      <td>0.0</td>\n",
              "      <td>0.0</td>\n",
              "      <td>0.0</td>\n",
              "      <td>275632.198191</td>\n",
              "    </tr>\n",
              "    <tr>\n",
              "      <th>...</th>\n",
              "      <td>...</td>\n",
              "      <td>...</td>\n",
              "      <td>...</td>\n",
              "      <td>...</td>\n",
              "      <td>...</td>\n",
              "      <td>...</td>\n",
              "      <td>...</td>\n",
              "      <td>...</td>\n",
              "      <td>...</td>\n",
              "      <td>...</td>\n",
              "      <td>...</td>\n",
              "      <td>...</td>\n",
              "      <td>...</td>\n",
              "      <td>...</td>\n",
              "      <td>...</td>\n",
              "      <td>...</td>\n",
              "      <td>...</td>\n",
              "      <td>...</td>\n",
              "      <td>...</td>\n",
              "    </tr>\n",
              "    <tr>\n",
              "      <th>1164</th>\n",
              "      <td>2021-01-24</td>\n",
              "      <td>329974.730242</td>\n",
              "      <td>319189.003550</td>\n",
              "      <td>343837.360242</td>\n",
              "      <td>321192.312805</td>\n",
              "      <td>338631.926809</td>\n",
              "      <td>1779.535597</td>\n",
              "      <td>1779.535597</td>\n",
              "      <td>1779.535597</td>\n",
              "      <td>161.120443</td>\n",
              "      <td>161.120443</td>\n",
              "      <td>161.120443</td>\n",
              "      <td>1618.415154</td>\n",
              "      <td>1618.415154</td>\n",
              "      <td>1618.415154</td>\n",
              "      <td>0.0</td>\n",
              "      <td>0.0</td>\n",
              "      <td>0.0</td>\n",
              "      <td>331754.265840</td>\n",
              "    </tr>\n",
              "    <tr>\n",
              "      <th>1165</th>\n",
              "      <td>2021-01-25</td>\n",
              "      <td>330015.424002</td>\n",
              "      <td>319391.135243</td>\n",
              "      <td>344059.818827</td>\n",
              "      <td>321113.080377</td>\n",
              "      <td>338745.427047</td>\n",
              "      <td>1715.211250</td>\n",
              "      <td>1715.211250</td>\n",
              "      <td>1715.211250</td>\n",
              "      <td>273.572121</td>\n",
              "      <td>273.572121</td>\n",
              "      <td>273.572121</td>\n",
              "      <td>1441.639128</td>\n",
              "      <td>1441.639128</td>\n",
              "      <td>1441.639128</td>\n",
              "      <td>0.0</td>\n",
              "      <td>0.0</td>\n",
              "      <td>0.0</td>\n",
              "      <td>331730.635252</td>\n",
              "    </tr>\n",
              "    <tr>\n",
              "      <th>1166</th>\n",
              "      <td>2021-01-26</td>\n",
              "      <td>330056.117762</td>\n",
              "      <td>319665.648934</td>\n",
              "      <td>343605.713969</td>\n",
              "      <td>321066.841802</td>\n",
              "      <td>338854.849131</td>\n",
              "      <td>1633.646672</td>\n",
              "      <td>1633.646672</td>\n",
              "      <td>1633.646672</td>\n",
              "      <td>384.941952</td>\n",
              "      <td>384.941952</td>\n",
              "      <td>384.941952</td>\n",
              "      <td>1248.704720</td>\n",
              "      <td>1248.704720</td>\n",
              "      <td>1248.704720</td>\n",
              "      <td>0.0</td>\n",
              "      <td>0.0</td>\n",
              "      <td>0.0</td>\n",
              "      <td>331689.764433</td>\n",
              "    </tr>\n",
              "    <tr>\n",
              "      <th>1167</th>\n",
              "      <td>2021-01-27</td>\n",
              "      <td>330096.811521</td>\n",
              "      <td>318649.239701</td>\n",
              "      <td>344125.469298</td>\n",
              "      <td>321025.550927</td>\n",
              "      <td>338962.120916</td>\n",
              "      <td>1196.058780</td>\n",
              "      <td>1196.058780</td>\n",
              "      <td>1196.058780</td>\n",
              "      <td>153.415412</td>\n",
              "      <td>153.415412</td>\n",
              "      <td>153.415412</td>\n",
              "      <td>1042.643368</td>\n",
              "      <td>1042.643368</td>\n",
              "      <td>1042.643368</td>\n",
              "      <td>0.0</td>\n",
              "      <td>0.0</td>\n",
              "      <td>0.0</td>\n",
              "      <td>331292.870301</td>\n",
              "    </tr>\n",
              "    <tr>\n",
              "      <th>1168</th>\n",
              "      <td>2021-01-28</td>\n",
              "      <td>330137.505281</td>\n",
              "      <td>318474.593373</td>\n",
              "      <td>344009.788997</td>\n",
              "      <td>320970.486122</td>\n",
              "      <td>339069.392700</td>\n",
              "      <td>1114.003632</td>\n",
              "      <td>1114.003632</td>\n",
              "      <td>1114.003632</td>\n",
              "      <td>286.965818</td>\n",
              "      <td>286.965818</td>\n",
              "      <td>286.965818</td>\n",
              "      <td>827.037815</td>\n",
              "      <td>827.037815</td>\n",
              "      <td>827.037815</td>\n",
              "      <td>0.0</td>\n",
              "      <td>0.0</td>\n",
              "      <td>0.0</td>\n",
              "      <td>331251.508913</td>\n",
              "    </tr>\n",
              "  </tbody>\n",
              "</table>\n",
              "<p>1169 rows × 19 columns</p>\n",
              "</div>"
            ],
            "text/plain": [
              "             ds          trend  ...  multiplicative_terms_upper           yhat\n",
              "0    2017-09-01  280079.092604  ...                         0.0  271697.215893\n",
              "1    2017-09-02  280145.781031  ...                         0.0  273256.495562\n",
              "2    2017-09-03  280212.469459  ...                         0.0  274257.287666\n",
              "3    2017-09-04  280279.157886  ...                         0.0  274970.419360\n",
              "4    2017-09-05  280345.846314  ...                         0.0  275632.198191\n",
              "...         ...            ...  ...                         ...            ...\n",
              "1164 2021-01-24  329974.730242  ...                         0.0  331754.265840\n",
              "1165 2021-01-25  330015.424002  ...                         0.0  331730.635252\n",
              "1166 2021-01-26  330056.117762  ...                         0.0  331689.764433\n",
              "1167 2021-01-27  330096.811521  ...                         0.0  331292.870301\n",
              "1168 2021-01-28  330137.505281  ...                         0.0  331251.508913\n",
              "\n",
              "[1169 rows x 19 columns]"
            ]
          },
          "metadata": {
            "tags": []
          },
          "execution_count": 47
        }
      ]
    },
    {
      "cell_type": "code",
      "metadata": {
        "colab": {
          "base_uri": "https://localhost:8080/",
          "height": 865
        },
        "id": "14ykbmdU1uGz",
        "outputId": "9b6c8162-121b-4bdc-c2e4-16411d2cff1d"
      },
      "source": [
        "model.plot(prediction)"
      ],
      "execution_count": 48,
      "outputs": [
        {
          "output_type": "execute_result",
          "data": {
            "image/png": "[encoded data removed]",
            "text/plain": [
              "<Figure size 720x432 with 1 Axes>"
            ]
          },
          "metadata": {
            "tags": []
          },
          "execution_count": 48
        },
        {
          "output_type": "display_data",
          "data": {
            "image/png": "[encoded data removed]",
            "text/plain": [
              "<Figure size 720x432 with 1 Axes>"
            ]
          },
          "metadata": {
            "tags": []
          }
        }
      ]
    },
    {
      "cell_type": "code",
      "metadata": {
        "id": "S6rLRBtu18Ys"
      },
      "source": [
        ""
      ],
      "execution_count": null,
      "outputs": []
    }
  ]
}